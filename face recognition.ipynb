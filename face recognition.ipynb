{
 "cells": [
  {
   "cell_type": "code",
   "execution_count": 78,
   "metadata": {},
   "outputs": [],
   "source": [
    "import cv2\n",
    "import os\n",
    "import numpy as np"
   ]
  },
  {
   "cell_type": "markdown",
   "metadata": {},
   "source": [
    "Following subjects are the names of person whose detection will be done"
   ]
  },
  {
   "cell_type": "code",
   "execution_count": 79,
   "metadata": {},
   "outputs": [],
   "source": [
    "subjects = [\"Unknown\",\"Pruthviraj\",\"Dhoni\"]"
   ]
  },
  {
   "cell_type": "markdown",
   "metadata": {},
   "source": [
    "detect_face function detects only one person's face\n",
    "Cascade classifier is used for face detection\n",
    "the following xml file 'lbpcascade_frontalface.xml' must be at same location of the notebook"
   ]
  },
  {
   "cell_type": "code",
   "execution_count": 80,
   "metadata": {},
   "outputs": [],
   "source": [
    "def detect_face(img):\n",
    "    #convert to gray Scale\n",
    "    gray = cv2.cvtColor(img,cv2.COLOR_BGR2GRAY)\n",
    "    #initiate classifier\n",
    "    face_cascade = cv2.CascadeClassifier('lbpcascade_frontalface.xml')\n",
    "    #detect faces\n",
    "    faces = face_cascade.detectMultiScale(gray, scaleFactor = 1.2, minNeighbors = 5)\n",
    "    if(len(faces)==0):\n",
    "        return None,None\n",
    "    \n",
    "    (x,y,w,h) = faces[0]\n",
    "    return gray[y:y+w, x:x+h], faces[0]\n"
   ]
  },
  {
   "cell_type": "markdown",
   "metadata": {},
   "source": [
    "detect_faces function detects multiple faces in a frame"
   ]
  },
  {
   "cell_type": "code",
   "execution_count": 81,
   "metadata": {},
   "outputs": [],
   "source": [
    "def detect_faces(img):\n",
    "    #convert to gray Scale\n",
    "    gray = cv2.cvtColor(img,cv2.COLOR_BGR2GRAY)\n",
    "    #initiate classifier\n",
    "    face_cascade = cv2.CascadeClassifier('lbpcascade_frontalface.xml')\n",
    "    #detect faces\n",
    "    faces = face_cascade.detectMultiScale(gray, scaleFactor = 1.2, minNeighbors = 5)\n",
    "    \n",
    "    if(len(faces)==0):\n",
    "        return None,None\n",
    "    \n",
    "    multiple_faces = []\n",
    "    rects = []\n",
    "    for (x,y,w,h) in faces:\n",
    "        gray_face = cv2.cvtColor(img,cv2.COLOR_BGR2GRAY)\n",
    "        multiple_faces.append(gray_face[y:y+w, x:x+h])\n",
    "        rects.append((x,y,w,h))\n",
    "        \n",
    "    return multiple_faces,rects"
   ]
  },
  {
   "cell_type": "markdown",
   "metadata": {},
   "source": [
    "Here we prepare data to be trained. In the location there are folders starting with 'p' character\n",
    "we can use any character this will help to specify that the folder contains training data and not any other data"
   ]
  },
  {
   "cell_type": "code",
   "execution_count": 82,
   "metadata": {},
   "outputs": [],
   "source": [
    "def prepare_training_data(path):\n",
    "    dirs = os.listdir(path)\n",
    "    faces= []\n",
    "    labels = []\n",
    "    \n",
    "    for dir_name in dirs:\n",
    "        #check if directory name starts with s to idenitify persons data\n",
    "        if not dir_name.startswith(\"p\"):\n",
    "            continue\n",
    "        \n",
    "        label = int(dir_name.replace(\"p\",\"\"))\n",
    "        \n",
    "        subj_dir_path = path + '\\\\'+ dir_name\n",
    "        \n",
    "        subj_image_names = os.listdir(subj_dir_path)\n",
    "        \n",
    "        for image_name in subj_image_names:\n",
    "            if image_name.startswith(\".\"):\n",
    "                continue\n",
    "            \n",
    "            image_path = subj_dir_path + \"\\\\\"+image_name\n",
    "            image = cv2.imread(image_path)\n",
    "            \n",
    "            cv2.imshow(\"training image...\", image)\n",
    "            cv2.waitKey(100)\n",
    "            \n",
    "            face,rect = detect_face(image)\n",
    "            \n",
    "            if face is not None:\n",
    "                faces.append(face)\n",
    "                labels.append(label)\n",
    "                \n",
    "    \n",
    "    cv2.destroyAllWindows()\n",
    "    cv2.waitKey(1)\n",
    "    cv2.destroyAllWindows()\n",
    "    \n",
    "    return faces, labels\n",
    "    "
   ]
  },
  {
   "cell_type": "code",
   "execution_count": 83,
   "metadata": {},
   "outputs": [
    {
     "name": "stdout",
     "output_type": "stream",
     "text": [
      "total faces:  35\n",
      "total labels:  35\n"
     ]
    }
   ],
   "source": [
    "#Prepare train the data\n",
    "faces,labels = prepare_training_data(\"Training-Data\")\n",
    "print(\"total faces: \", len(faces))\n",
    "print(\"total labels: \",len(labels))"
   ]
  },
  {
   "cell_type": "markdown",
   "metadata": {},
   "source": [
    "Train the data with LBPH trainer"
   ]
  },
  {
   "cell_type": "code",
   "execution_count": 84,
   "metadata": {},
   "outputs": [],
   "source": [
    "#initiate the face recognizer\n",
    "face_recognizer = cv2.face.LBPHFaceRecognizer_create()\n",
    "face_recognizer.train(faces,np.array(labels))\n"
   ]
  },
  {
   "cell_type": "markdown",
   "metadata": {},
   "source": [
    "Draws rectangle on image"
   ]
  },
  {
   "cell_type": "code",
   "execution_count": 85,
   "metadata": {},
   "outputs": [],
   "source": [
    "#to draw rectangle on image\n",
    "def draw_rectangle(img,rect):\n",
    "    (x,y,w,h) = rect\n",
    "    cv2.rectangle(img, (x,y),(x+w,y+h),(0,255,0),2)"
   ]
  },
  {
   "cell_type": "markdown",
   "metadata": {},
   "source": [
    "Draws text on the image"
   ]
  },
  {
   "cell_type": "code",
   "execution_count": 86,
   "metadata": {},
   "outputs": [],
   "source": [
    "#to put text on image\n",
    "def draw_text(img,text,x,y):\n",
    "    cv2.putText(img,text,(x,y),cv2.FONT_HERSHEY_PLAIN, 1.5, (0,255,0),2)"
   ]
  },
  {
   "cell_type": "markdown",
   "metadata": {},
   "source": [
    "This function predicts single face in the frame\n",
    "face recognizer returns the number of data set which the face belongs and match probability with 0 being the best match"
   ]
  },
  {
   "cell_type": "code",
   "execution_count": 87,
   "metadata": {},
   "outputs": [],
   "source": [
    "#to predict single face\n",
    "def predict(test_img):\n",
    "    img = test_img.copy()\n",
    "    label_text = subjects[0]\n",
    "    \n",
    "    face,rect = detect_face(img)\n",
    "    \n",
    "    if(face is not None):\n",
    "        label = face_recognizer.predict(face)\n",
    "    \n",
    "        if(label[0] == 1  and label[1] < 50 ):\n",
    "            label_text = subjects[1]\n",
    "        elif(label[0] == 2 and label[1] < 50):\n",
    "            label_text = subjects[2]\n",
    "    \n",
    "        draw_rectangle(img,rect)\n",
    "    \n",
    "        draw_text(img, label_text,rect[0],rect[1]-5)\n",
    "    \n",
    "        return img\n",
    "    else:\n",
    "        return None"
   ]
  },
  {
   "cell_type": "markdown",
   "metadata": {},
   "source": [
    "This function predicts multiple faces in the frame"
   ]
  },
  {
   "cell_type": "code",
   "execution_count": 88,
   "metadata": {},
   "outputs": [],
   "source": [
    "#To predict multiple faces\n",
    "def predict_multiple_faces(test_img):\n",
    "    img = test_img.copy()\n",
    "    label_text = subjects[0]\n",
    "    \n",
    "    faces,rects = detect_faces(img)\n",
    "    \n",
    "    if faces is None:\n",
    "        return None\n",
    "    else:\n",
    "        for i in range(len(faces)):\n",
    "            label = face_recognizer.predict(faces[i])\n",
    "            \n",
    "            if(label[0] == 1  and label[1] < 50 ):\n",
    "                label_text = subjects[1]\n",
    "            elif(label[0] == 2 and label[1] < 50):\n",
    "                label_text = subjects[2]\n",
    "            \n",
    "            draw_rectangle(img,rects[i])\n",
    "    \n",
    "            draw_text(img, label_text,rects[i][0],rects[i][1]-5)\n",
    "        \n",
    "        return img\n",
    "        "
   ]
  },
  {
   "cell_type": "markdown",
   "metadata": {},
   "source": [
    "This loops run each frame from web cam and feeds to predictor and shows the output with rectangle and recognition of face. Press escape to quit"
   ]
  },
  {
   "cell_type": "code",
   "execution_count": 90,
   "metadata": {},
   "outputs": [],
   "source": [
    "cap = cv2.VideoCapture(0)\n",
    "# loop runs if capturing has been initialized. \n",
    "while 1:  \n",
    "   \n",
    "    # reads frames from a camera \n",
    "    ret, img = cap.read() \n",
    "    \n",
    "    predict_img = predict_multiple_faces(img)\n",
    "    \n",
    "    if(predict_img is None):\n",
    "        cv2.imshow('Face Detection',img) \n",
    "    else:\n",
    "        cv2.imshow('Face Detection',predict_img) \n",
    "  \n",
    "    # Wait for Esc key to stop \n",
    "    k = cv2.waitKey(30) & 0xff\n",
    "    if k == 27: \n",
    "        break\n",
    "# Close the window \n",
    "cap.release() \n",
    "  \n",
    "# De-allocate any associated memory usage \n",
    "cv2.destroyAllWindows()"
   ]
  },
  {
   "cell_type": "code",
   "execution_count": null,
   "metadata": {},
   "outputs": [],
   "source": []
  }
 ],
 "metadata": {
  "kernelspec": {
   "display_name": "Python 3",
   "language": "python",
   "name": "python3"
  },
  "language_info": {
   "codemirror_mode": {
    "name": "ipython",
    "version": 3
   },
   "file_extension": ".py",
   "mimetype": "text/x-python",
   "name": "python",
   "nbconvert_exporter": "python",
   "pygments_lexer": "ipython3",
   "version": "3.7.6"
  }
 },
 "nbformat": 4,
 "nbformat_minor": 4
}
